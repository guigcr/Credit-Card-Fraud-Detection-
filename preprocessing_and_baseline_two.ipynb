{
  "nbformat": 4,
  "nbformat_minor": 0,
  "metadata": {
    "colab": {
      "provenance": []
    },
    "kernelspec": {
      "name": "python3",
      "display_name": "Python 3"
    },
    "language_info": {
      "name": "python"
    }
  },
  "cells": [
    {
      "cell_type": "code",
      "source": [
        "import numpy as np\n",
        "import pandas as pd\n",
        "import matplotlib.pyplot as plt\n",
        "import seaborn as sns"
      ],
      "metadata": {
        "id": "Fj2WB2wuwucS"
      },
      "execution_count": 5,
      "outputs": []
    },
    {
      "cell_type": "markdown",
      "source": [
        "# Dataset"
      ],
      "metadata": {
        "id": "geZekuXrxJMg"
      }
    },
    {
      "cell_type": "code",
      "source": [
        "df = pd.read_csv(\"creditcard.csv\")\n",
        "print(df.shape)\n",
        "df.head()"
      ],
      "metadata": {
        "colab": {
          "base_uri": "https://localhost:8080/",
          "height": 273
        },
        "id": "VdM-zTUyxKVT",
        "outputId": "b3f5ea17-c716-4bb5-e1e3-c5271984cdd0"
      },
      "execution_count": 8,
      "outputs": [
        {
          "output_type": "stream",
          "name": "stdout",
          "text": [
            "(284807, 31)\n"
          ]
        },
        {
          "output_type": "execute_result",
          "data": {
            "text/plain": [
              "   Time        V1        V2        V3        V4        V5        V6        V7  \\\n",
              "0   0.0 -1.359807 -0.072781  2.536347  1.378155 -0.338321  0.462388  0.239599   \n",
              "1   0.0  1.191857  0.266151  0.166480  0.448154  0.060018 -0.082361 -0.078803   \n",
              "2   1.0 -1.358354 -1.340163  1.773209  0.379780 -0.503198  1.800499  0.791461   \n",
              "3   1.0 -0.966272 -0.185226  1.792993 -0.863291 -0.010309  1.247203  0.237609   \n",
              "4   2.0 -1.158233  0.877737  1.548718  0.403034 -0.407193  0.095921  0.592941   \n",
              "\n",
              "         V8        V9  ...       V21       V22       V23       V24       V25  \\\n",
              "0  0.098698  0.363787  ... -0.018307  0.277838 -0.110474  0.066928  0.128539   \n",
              "1  0.085102 -0.255425  ... -0.225775 -0.638672  0.101288 -0.339846  0.167170   \n",
              "2  0.247676 -1.514654  ...  0.247998  0.771679  0.909412 -0.689281 -0.327642   \n",
              "3  0.377436 -1.387024  ... -0.108300  0.005274 -0.190321 -1.175575  0.647376   \n",
              "4 -0.270533  0.817739  ... -0.009431  0.798278 -0.137458  0.141267 -0.206010   \n",
              "\n",
              "        V26       V27       V28  Amount  Class  \n",
              "0 -0.189115  0.133558 -0.021053  149.62      0  \n",
              "1  0.125895 -0.008983  0.014724    2.69      0  \n",
              "2 -0.139097 -0.055353 -0.059752  378.66      0  \n",
              "3 -0.221929  0.062723  0.061458  123.50      0  \n",
              "4  0.502292  0.219422  0.215153   69.99      0  \n",
              "\n",
              "[5 rows x 31 columns]"
            ],
            "text/html": [
              "\n",
              "  <div id=\"df-96c736e3-d76b-4589-9363-354d031e7948\" class=\"colab-df-container\">\n",
              "    <div>\n",
              "<style scoped>\n",
              "    .dataframe tbody tr th:only-of-type {\n",
              "        vertical-align: middle;\n",
              "    }\n",
              "\n",
              "    .dataframe tbody tr th {\n",
              "        vertical-align: top;\n",
              "    }\n",
              "\n",
              "    .dataframe thead th {\n",
              "        text-align: right;\n",
              "    }\n",
              "</style>\n",
              "<table border=\"1\" class=\"dataframe\">\n",
              "  <thead>\n",
              "    <tr style=\"text-align: right;\">\n",
              "      <th></th>\n",
              "      <th>Time</th>\n",
              "      <th>V1</th>\n",
              "      <th>V2</th>\n",
              "      <th>V3</th>\n",
              "      <th>V4</th>\n",
              "      <th>V5</th>\n",
              "      <th>V6</th>\n",
              "      <th>V7</th>\n",
              "      <th>V8</th>\n",
              "      <th>V9</th>\n",
              "      <th>...</th>\n",
              "      <th>V21</th>\n",
              "      <th>V22</th>\n",
              "      <th>V23</th>\n",
              "      <th>V24</th>\n",
              "      <th>V25</th>\n",
              "      <th>V26</th>\n",
              "      <th>V27</th>\n",
              "      <th>V28</th>\n",
              "      <th>Amount</th>\n",
              "      <th>Class</th>\n",
              "    </tr>\n",
              "  </thead>\n",
              "  <tbody>\n",
              "    <tr>\n",
              "      <th>0</th>\n",
              "      <td>0.0</td>\n",
              "      <td>-1.359807</td>\n",
              "      <td>-0.072781</td>\n",
              "      <td>2.536347</td>\n",
              "      <td>1.378155</td>\n",
              "      <td>-0.338321</td>\n",
              "      <td>0.462388</td>\n",
              "      <td>0.239599</td>\n",
              "      <td>0.098698</td>\n",
              "      <td>0.363787</td>\n",
              "      <td>...</td>\n",
              "      <td>-0.018307</td>\n",
              "      <td>0.277838</td>\n",
              "      <td>-0.110474</td>\n",
              "      <td>0.066928</td>\n",
              "      <td>0.128539</td>\n",
              "      <td>-0.189115</td>\n",
              "      <td>0.133558</td>\n",
              "      <td>-0.021053</td>\n",
              "      <td>149.62</td>\n",
              "      <td>0</td>\n",
              "    </tr>\n",
              "    <tr>\n",
              "      <th>1</th>\n",
              "      <td>0.0</td>\n",
              "      <td>1.191857</td>\n",
              "      <td>0.266151</td>\n",
              "      <td>0.166480</td>\n",
              "      <td>0.448154</td>\n",
              "      <td>0.060018</td>\n",
              "      <td>-0.082361</td>\n",
              "      <td>-0.078803</td>\n",
              "      <td>0.085102</td>\n",
              "      <td>-0.255425</td>\n",
              "      <td>...</td>\n",
              "      <td>-0.225775</td>\n",
              "      <td>-0.638672</td>\n",
              "      <td>0.101288</td>\n",
              "      <td>-0.339846</td>\n",
              "      <td>0.167170</td>\n",
              "      <td>0.125895</td>\n",
              "      <td>-0.008983</td>\n",
              "      <td>0.014724</td>\n",
              "      <td>2.69</td>\n",
              "      <td>0</td>\n",
              "    </tr>\n",
              "    <tr>\n",
              "      <th>2</th>\n",
              "      <td>1.0</td>\n",
              "      <td>-1.358354</td>\n",
              "      <td>-1.340163</td>\n",
              "      <td>1.773209</td>\n",
              "      <td>0.379780</td>\n",
              "      <td>-0.503198</td>\n",
              "      <td>1.800499</td>\n",
              "      <td>0.791461</td>\n",
              "      <td>0.247676</td>\n",
              "      <td>-1.514654</td>\n",
              "      <td>...</td>\n",
              "      <td>0.247998</td>\n",
              "      <td>0.771679</td>\n",
              "      <td>0.909412</td>\n",
              "      <td>-0.689281</td>\n",
              "      <td>-0.327642</td>\n",
              "      <td>-0.139097</td>\n",
              "      <td>-0.055353</td>\n",
              "      <td>-0.059752</td>\n",
              "      <td>378.66</td>\n",
              "      <td>0</td>\n",
              "    </tr>\n",
              "    <tr>\n",
              "      <th>3</th>\n",
              "      <td>1.0</td>\n",
              "      <td>-0.966272</td>\n",
              "      <td>-0.185226</td>\n",
              "      <td>1.792993</td>\n",
              "      <td>-0.863291</td>\n",
              "      <td>-0.010309</td>\n",
              "      <td>1.247203</td>\n",
              "      <td>0.237609</td>\n",
              "      <td>0.377436</td>\n",
              "      <td>-1.387024</td>\n",
              "      <td>...</td>\n",
              "      <td>-0.108300</td>\n",
              "      <td>0.005274</td>\n",
              "      <td>-0.190321</td>\n",
              "      <td>-1.175575</td>\n",
              "      <td>0.647376</td>\n",
              "      <td>-0.221929</td>\n",
              "      <td>0.062723</td>\n",
              "      <td>0.061458</td>\n",
              "      <td>123.50</td>\n",
              "      <td>0</td>\n",
              "    </tr>\n",
              "    <tr>\n",
              "      <th>4</th>\n",
              "      <td>2.0</td>\n",
              "      <td>-1.158233</td>\n",
              "      <td>0.877737</td>\n",
              "      <td>1.548718</td>\n",
              "      <td>0.403034</td>\n",
              "      <td>-0.407193</td>\n",
              "      <td>0.095921</td>\n",
              "      <td>0.592941</td>\n",
              "      <td>-0.270533</td>\n",
              "      <td>0.817739</td>\n",
              "      <td>...</td>\n",
              "      <td>-0.009431</td>\n",
              "      <td>0.798278</td>\n",
              "      <td>-0.137458</td>\n",
              "      <td>0.141267</td>\n",
              "      <td>-0.206010</td>\n",
              "      <td>0.502292</td>\n",
              "      <td>0.219422</td>\n",
              "      <td>0.215153</td>\n",
              "      <td>69.99</td>\n",
              "      <td>0</td>\n",
              "    </tr>\n",
              "  </tbody>\n",
              "</table>\n",
              "<p>5 rows × 31 columns</p>\n",
              "</div>\n",
              "    <div class=\"colab-df-buttons\">\n",
              "\n",
              "  <div class=\"colab-df-container\">\n",
              "    <button class=\"colab-df-convert\" onclick=\"convertToInteractive('df-96c736e3-d76b-4589-9363-354d031e7948')\"\n",
              "            title=\"Convert this dataframe to an interactive table.\"\n",
              "            style=\"display:none;\">\n",
              "\n",
              "  <svg xmlns=\"http://www.w3.org/2000/svg\" height=\"24px\" viewBox=\"0 -960 960 960\">\n",
              "    <path d=\"M120-120v-720h720v720H120Zm60-500h600v-160H180v160Zm220 220h160v-160H400v160Zm0 220h160v-160H400v160ZM180-400h160v-160H180v160Zm440 0h160v-160H620v160ZM180-180h160v-160H180v160Zm440 0h160v-160H620v160Z\"/>\n",
              "  </svg>\n",
              "    </button>\n",
              "\n",
              "  <style>\n",
              "    .colab-df-container {\n",
              "      display:flex;\n",
              "      gap: 12px;\n",
              "    }\n",
              "\n",
              "    .colab-df-convert {\n",
              "      background-color: #E8F0FE;\n",
              "      border: none;\n",
              "      border-radius: 50%;\n",
              "      cursor: pointer;\n",
              "      display: none;\n",
              "      fill: #1967D2;\n",
              "      height: 32px;\n",
              "      padding: 0 0 0 0;\n",
              "      width: 32px;\n",
              "    }\n",
              "\n",
              "    .colab-df-convert:hover {\n",
              "      background-color: #E2EBFA;\n",
              "      box-shadow: 0px 1px 2px rgba(60, 64, 67, 0.3), 0px 1px 3px 1px rgba(60, 64, 67, 0.15);\n",
              "      fill: #174EA6;\n",
              "    }\n",
              "\n",
              "    .colab-df-buttons div {\n",
              "      margin-bottom: 4px;\n",
              "    }\n",
              "\n",
              "    [theme=dark] .colab-df-convert {\n",
              "      background-color: #3B4455;\n",
              "      fill: #D2E3FC;\n",
              "    }\n",
              "\n",
              "    [theme=dark] .colab-df-convert:hover {\n",
              "      background-color: #434B5C;\n",
              "      box-shadow: 0px 1px 3px 1px rgba(0, 0, 0, 0.15);\n",
              "      filter: drop-shadow(0px 1px 2px rgba(0, 0, 0, 0.3));\n",
              "      fill: #FFFFFF;\n",
              "    }\n",
              "  </style>\n",
              "\n",
              "    <script>\n",
              "      const buttonEl =\n",
              "        document.querySelector('#df-96c736e3-d76b-4589-9363-354d031e7948 button.colab-df-convert');\n",
              "      buttonEl.style.display =\n",
              "        google.colab.kernel.accessAllowed ? 'block' : 'none';\n",
              "\n",
              "      async function convertToInteractive(key) {\n",
              "        const element = document.querySelector('#df-96c736e3-d76b-4589-9363-354d031e7948');\n",
              "        const dataTable =\n",
              "          await google.colab.kernel.invokeFunction('convertToInteractive',\n",
              "                                                    [key], {});\n",
              "        if (!dataTable) return;\n",
              "\n",
              "        const docLinkHtml = 'Like what you see? Visit the ' +\n",
              "          '<a target=\"_blank\" href=https://colab.research.google.com/notebooks/data_table.ipynb>data table notebook</a>'\n",
              "          + ' to learn more about interactive tables.';\n",
              "        element.innerHTML = '';\n",
              "        dataTable['output_type'] = 'display_data';\n",
              "        await google.colab.output.renderOutput(dataTable, element);\n",
              "        const docLink = document.createElement('div');\n",
              "        docLink.innerHTML = docLinkHtml;\n",
              "        element.appendChild(docLink);\n",
              "      }\n",
              "    </script>\n",
              "  </div>\n",
              "\n",
              "\n",
              "    <div id=\"df-11499bdd-3ca5-4bce-9571-8a10d6350232\">\n",
              "      <button class=\"colab-df-quickchart\" onclick=\"quickchart('df-11499bdd-3ca5-4bce-9571-8a10d6350232')\"\n",
              "                title=\"Suggest charts\"\n",
              "                style=\"display:none;\">\n",
              "\n",
              "<svg xmlns=\"http://www.w3.org/2000/svg\" height=\"24px\"viewBox=\"0 0 24 24\"\n",
              "     width=\"24px\">\n",
              "    <g>\n",
              "        <path d=\"M19 3H5c-1.1 0-2 .9-2 2v14c0 1.1.9 2 2 2h14c1.1 0 2-.9 2-2V5c0-1.1-.9-2-2-2zM9 17H7v-7h2v7zm4 0h-2V7h2v10zm4 0h-2v-4h2v4z\"/>\n",
              "    </g>\n",
              "</svg>\n",
              "      </button>\n",
              "\n",
              "<style>\n",
              "  .colab-df-quickchart {\n",
              "      --bg-color: #E8F0FE;\n",
              "      --fill-color: #1967D2;\n",
              "      --hover-bg-color: #E2EBFA;\n",
              "      --hover-fill-color: #174EA6;\n",
              "      --disabled-fill-color: #AAA;\n",
              "      --disabled-bg-color: #DDD;\n",
              "  }\n",
              "\n",
              "  [theme=dark] .colab-df-quickchart {\n",
              "      --bg-color: #3B4455;\n",
              "      --fill-color: #D2E3FC;\n",
              "      --hover-bg-color: #434B5C;\n",
              "      --hover-fill-color: #FFFFFF;\n",
              "      --disabled-bg-color: #3B4455;\n",
              "      --disabled-fill-color: #666;\n",
              "  }\n",
              "\n",
              "  .colab-df-quickchart {\n",
              "    background-color: var(--bg-color);\n",
              "    border: none;\n",
              "    border-radius: 50%;\n",
              "    cursor: pointer;\n",
              "    display: none;\n",
              "    fill: var(--fill-color);\n",
              "    height: 32px;\n",
              "    padding: 0;\n",
              "    width: 32px;\n",
              "  }\n",
              "\n",
              "  .colab-df-quickchart:hover {\n",
              "    background-color: var(--hover-bg-color);\n",
              "    box-shadow: 0 1px 2px rgba(60, 64, 67, 0.3), 0 1px 3px 1px rgba(60, 64, 67, 0.15);\n",
              "    fill: var(--button-hover-fill-color);\n",
              "  }\n",
              "\n",
              "  .colab-df-quickchart-complete:disabled,\n",
              "  .colab-df-quickchart-complete:disabled:hover {\n",
              "    background-color: var(--disabled-bg-color);\n",
              "    fill: var(--disabled-fill-color);\n",
              "    box-shadow: none;\n",
              "  }\n",
              "\n",
              "  .colab-df-spinner {\n",
              "    border: 2px solid var(--fill-color);\n",
              "    border-color: transparent;\n",
              "    border-bottom-color: var(--fill-color);\n",
              "    animation:\n",
              "      spin 1s steps(1) infinite;\n",
              "  }\n",
              "\n",
              "  @keyframes spin {\n",
              "    0% {\n",
              "      border-color: transparent;\n",
              "      border-bottom-color: var(--fill-color);\n",
              "      border-left-color: var(--fill-color);\n",
              "    }\n",
              "    20% {\n",
              "      border-color: transparent;\n",
              "      border-left-color: var(--fill-color);\n",
              "      border-top-color: var(--fill-color);\n",
              "    }\n",
              "    30% {\n",
              "      border-color: transparent;\n",
              "      border-left-color: var(--fill-color);\n",
              "      border-top-color: var(--fill-color);\n",
              "      border-right-color: var(--fill-color);\n",
              "    }\n",
              "    40% {\n",
              "      border-color: transparent;\n",
              "      border-right-color: var(--fill-color);\n",
              "      border-top-color: var(--fill-color);\n",
              "    }\n",
              "    60% {\n",
              "      border-color: transparent;\n",
              "      border-right-color: var(--fill-color);\n",
              "    }\n",
              "    80% {\n",
              "      border-color: transparent;\n",
              "      border-right-color: var(--fill-color);\n",
              "      border-bottom-color: var(--fill-color);\n",
              "    }\n",
              "    90% {\n",
              "      border-color: transparent;\n",
              "      border-bottom-color: var(--fill-color);\n",
              "    }\n",
              "  }\n",
              "</style>\n",
              "\n",
              "      <script>\n",
              "        async function quickchart(key) {\n",
              "          const quickchartButtonEl =\n",
              "            document.querySelector('#' + key + ' button');\n",
              "          quickchartButtonEl.disabled = true;  // To prevent multiple clicks.\n",
              "          quickchartButtonEl.classList.add('colab-df-spinner');\n",
              "          try {\n",
              "            const charts = await google.colab.kernel.invokeFunction(\n",
              "                'suggestCharts', [key], {});\n",
              "          } catch (error) {\n",
              "            console.error('Error during call to suggestCharts:', error);\n",
              "          }\n",
              "          quickchartButtonEl.classList.remove('colab-df-spinner');\n",
              "          quickchartButtonEl.classList.add('colab-df-quickchart-complete');\n",
              "        }\n",
              "        (() => {\n",
              "          let quickchartButtonEl =\n",
              "            document.querySelector('#df-11499bdd-3ca5-4bce-9571-8a10d6350232 button');\n",
              "          quickchartButtonEl.style.display =\n",
              "            google.colab.kernel.accessAllowed ? 'block' : 'none';\n",
              "        })();\n",
              "      </script>\n",
              "    </div>\n",
              "\n",
              "    </div>\n",
              "  </div>\n"
            ],
            "application/vnd.google.colaboratory.intrinsic+json": {
              "type": "dataframe",
              "variable_name": "df"
            }
          },
          "metadata": {},
          "execution_count": 8
        }
      ]
    },
    {
      "cell_type": "code",
      "source": [
        "X = df.drop('Class', axis=1)\n",
        "y = df['Class']"
      ],
      "metadata": {
        "id": "mOH1bnDdxN9R"
      },
      "execution_count": 7,
      "outputs": []
    },
    {
      "cell_type": "markdown",
      "source": [
        "# Feature Scaling"
      ],
      "metadata": {
        "id": "XBGTIQIZxRj5"
      }
    },
    {
      "cell_type": "code",
      "source": [
        "from sklearn.preprocessing import StandardScaler\n",
        "sc = StandardScaler()\n",
        "X[['Amount', 'Time']] = sc.fit_transform(X[['Amount', 'Time']])"
      ],
      "metadata": {
        "id": "rRzZ3vh7xQaG"
      },
      "execution_count": 12,
      "outputs": []
    },
    {
      "cell_type": "markdown",
      "source": [
        "#Splitting the dataset into the Training set and Test set"
      ],
      "metadata": {
        "id": "Pqm-rlPly4ST"
      }
    },
    {
      "cell_type": "code",
      "source": [
        "from sklearn.model_selection import train_test_split\n",
        "X_train, X_test, Y_train, Y_test = train_test_split(\n",
        "    X, y, test_size=0.3, random_state=0, stratify=y\n",
        ")"
      ],
      "metadata": {
        "id": "On40ekfUy6Ga"
      },
      "execution_count": 15,
      "outputs": []
    },
    {
      "cell_type": "code",
      "source": [
        "print(X_train)"
      ],
      "metadata": {
        "colab": {
          "base_uri": "https://localhost:8080/"
        },
        "id": "mB__GJci0J70",
        "outputId": "5c1a7c09-3821-48d9-c756-b9a128f005ff"
      },
      "execution_count": 16,
      "outputs": [
        {
          "output_type": "stream",
          "name": "stdout",
          "text": [
            "            Time        V1        V2        V3        V4        V5        V6  \\\n",
            "211605  0.919560 -8.367621  7.402969 -5.114191 -2.966792 -0.985904 -1.660018   \n",
            "231628  1.095710 -1.290662  0.764452 -0.169233 -1.688528  1.984718 -0.717210   \n",
            "110643 -0.482329 -0.606860  0.233923  2.633361 -0.155762 -0.328850 -0.070593   \n",
            "11478  -1.577530  1.374168 -0.330389  0.812971 -0.183112 -1.074771 -0.933788   \n",
            "243724  1.205211 -2.146505 -7.603113 -4.928224  1.449173 -2.083871 -0.984759   \n",
            "...          ...       ...       ...       ...       ...       ...       ...   \n",
            "88290  -0.689433 -1.993953  1.734986 -1.108037 -2.671817  1.605319  3.041992   \n",
            "22346  -1.318665 -0.440396  1.062920  1.582218 -0.029761  0.040967 -0.903627   \n",
            "269968  1.454053  0.827820 -2.649344 -3.161235  0.209209 -0.561331 -1.570386   \n",
            "175960  0.584508 -1.523903 -6.287060 -2.638246  1.330015 -1.672002  1.957509   \n",
            "47973  -1.081827 -1.608560  0.132746  2.075995 -1.937332 -1.822305 -0.429669   \n",
            "\n",
            "              V7        V8        V9  ...       V20       V21       V22  \\\n",
            "211605  0.397816  1.008250  5.290976  ...  3.589299 -0.557927  0.349087   \n",
            "231628  1.667635 -0.228295 -0.959071  ...  0.057620  0.138615  0.390374   \n",
            "110643  0.173023  0.113394  0.680147  ... -0.129287  0.007393  0.265045   \n",
            "11478  -0.544238 -0.348237  0.614925  ...  0.078163 -0.134742  0.016793   \n",
            "243724  3.629816 -1.302973 -1.434148  ...  4.009181  1.274986 -0.857670   \n",
            "...          ...       ...       ...  ...       ...       ...       ...   \n",
            "88290  -0.417771  1.438007  0.945437  ...  0.775705 -0.303532 -0.708199   \n",
            "22346   0.730326 -0.108175 -0.513163  ...  0.158754 -0.215794 -0.532224   \n",
            "269968  1.612531 -0.930219 -1.318562  ...  0.892558  0.349915  0.002268   \n",
            "175960  1.359226  0.081727  0.753151  ...  3.298835  1.329127  0.001210   \n",
            "47973   0.247042  0.684452  1.177470  ...  0.186211  0.465181  1.017280   \n",
            "\n",
            "             V23       V24       V25       V26       V27       V28    Amount  \n",
            "211605  0.301734  0.662330  1.145939 -0.012273  1.513736  0.669504 -0.350471  \n",
            "231628 -0.678774  0.292254  1.425865  0.265341  0.051405  0.103879 -0.131456  \n",
            "110643 -0.040615  0.406088 -0.498823  0.121851 -0.046840 -0.087259 -0.307251  \n",
            "11478   0.002610  0.714527  0.536175 -0.307487 -0.003555  0.013024 -0.313249  \n",
            "243724 -2.109682  0.169338 -0.322888  0.777822 -0.552258  0.304777  8.802588  \n",
            "...          ...       ...       ...       ...       ...       ...       ...  \n",
            "88290   0.047110  1.008409  0.234363  0.768581  0.697625  0.354542 -0.293938  \n",
            "22346  -0.024762  0.382581 -0.164620  0.068836  0.269144  0.123483 -0.342914  \n",
            "269968 -0.746698  0.171847  0.247576  0.936557 -0.258164  0.037868  2.637499  \n",
            "175960 -1.360187 -1.507703 -1.183927  0.578076 -0.328557  0.229935  6.729380  \n",
            "47973   0.173478  0.570107  0.504597 -0.659853  0.175060  0.092039  0.413604  \n",
            "\n",
            "[199364 rows x 30 columns]\n"
          ]
        }
      ]
    },
    {
      "cell_type": "code",
      "source": [
        "print(Y_train)"
      ],
      "metadata": {
        "colab": {
          "base_uri": "https://localhost:8080/"
        },
        "id": "1BRL2-Ur0K8I",
        "outputId": "72f9bd75-b71d-4a14-80ac-211994e8315e"
      },
      "execution_count": 17,
      "outputs": [
        {
          "output_type": "stream",
          "name": "stdout",
          "text": [
            "211605    0\n",
            "231628    0\n",
            "110643    0\n",
            "11478     0\n",
            "243724    0\n",
            "         ..\n",
            "88290     0\n",
            "22346     0\n",
            "269968    0\n",
            "175960    0\n",
            "47973     0\n",
            "Name: Class, Length: 199364, dtype: int64\n"
          ]
        }
      ]
    },
    {
      "cell_type": "code",
      "source": [
        "print(X_test)"
      ],
      "metadata": {
        "colab": {
          "base_uri": "https://localhost:8080/"
        },
        "id": "ibYOwenj0Lvh",
        "outputId": "3e30de30-da1f-444b-bdc5-c6de20ea3c4e"
      },
      "execution_count": 18,
      "outputs": [
        {
          "output_type": "stream",
          "name": "stdout",
          "text": [
            "            Time        V1        V2        V3        V4        V5        V6  \\\n",
            "170978  0.539591  0.101337  0.665808 -0.514168 -0.675752  1.087999 -0.681790   \n",
            "96185  -0.614151 -1.678212  1.244794  0.947874 -2.101099 -0.811015 -1.037444   \n",
            "30469  -1.239761 -1.407998 -0.094725  1.218361 -1.884626  0.639017 -1.127801   \n",
            "266925  1.426151  2.025163 -1.001783 -0.855068 -0.506527 -0.793876 -0.197866   \n",
            "14185  -1.465523  0.477071 -1.295023  0.586617  1.599474 -1.215659  0.114858   \n",
            "...          ...       ...       ...       ...       ...       ...       ...   \n",
            "116600 -0.430884 -0.289381  1.125321  1.446190  0.446241  0.205071 -0.870060   \n",
            "137239 -0.268149 -0.744587  1.143912  1.113239  1.064208 -0.271394 -0.181684   \n",
            "184018  0.657895  2.007609 -0.014725 -0.857372  1.824368  0.188343  0.055245   \n",
            "64742  -0.916564  1.079943 -0.156823  1.288267  1.166740 -0.918791  0.350468   \n",
            "259262  1.352322  2.223422 -0.632968 -1.295563 -0.870125 -0.575393 -1.432570   \n",
            "\n",
            "              V7        V8        V9  ...       V20       V21       V22  \\\n",
            "170978  0.877323 -0.096356  0.265313  ... -0.177718  0.114197  0.500593   \n",
            "96185   0.144664  0.465090 -1.137320  ... -0.246449 -0.383548 -0.581462   \n",
            "30469   0.537467 -0.295973 -1.670308  ... -0.126990  0.295294  0.836930   \n",
            "266925 -0.779789  0.032557 -0.357041  ... -0.519001 -0.298900 -0.427423   \n",
            "14185  -0.178181  0.090062  0.944582  ...  0.543494  0.299761  0.114989   \n",
            "...          ...       ...       ...  ...       ...       ...       ...   \n",
            "116600  0.716579 -0.195459 -0.825199  ...  0.152209 -0.155482 -0.404762   \n",
            "137239  0.143960  0.485779 -0.094435  ...  0.046142  0.039445  0.342459   \n",
            "184018 -0.140535 -0.051169 -0.646238  ... -0.129969  0.013991  0.209744   \n",
            "64742  -0.823391  0.400647  0.680817  ... -0.246535  0.200586  0.712738   \n",
            "259262 -0.256553 -0.473604 -0.631816  ...  0.009197  0.441590  1.328749   \n",
            "\n",
            "             V23       V24       V25       V26       V27       V28    Amount  \n",
            "170978 -0.066669  0.558720 -0.518068  0.367070  0.079707  0.131678 -0.303253  \n",
            "96185   0.033139  0.483823 -0.039289  0.078483  0.486383  0.291222 -0.313249  \n",
            "30469  -0.367286  0.157457  0.840789 -0.160280 -0.210861  0.103780 -0.233487  \n",
            "266925  0.298094  0.747735 -0.426508  0.500501 -0.051892 -0.048338 -0.152246  \n",
            "14185  -0.461395 -0.122341  0.381628 -0.245921 -0.013775  0.092648  1.166043  \n",
            "...          ...       ...       ...       ...       ...       ...       ...  \n",
            "116600 -0.003454  0.383924 -0.530454  0.112610  0.123216  0.159743 -0.349671  \n",
            "137239 -0.184389  0.060572  0.012478 -0.238599  0.307328  0.142071 -0.305772  \n",
            "184018  0.107892 -0.351920 -0.294630  2.347521 -0.196798 -0.099440 -0.338077  \n",
            "64742  -0.030159  0.209327  0.344709 -0.253887  0.075692  0.020761 -0.352950  \n",
            "259262 -0.020945  0.125893  0.224582  0.063735 -0.034914 -0.063894 -0.293258  \n",
            "\n",
            "[85443 rows x 30 columns]\n"
          ]
        }
      ]
    },
    {
      "cell_type": "code",
      "source": [
        "print(Y_test)"
      ],
      "metadata": {
        "colab": {
          "base_uri": "https://localhost:8080/"
        },
        "id": "AxZbuNQI0Mm8",
        "outputId": "e24fb620-a33f-44f3-99d8-1d30e39bf51b"
      },
      "execution_count": 19,
      "outputs": [
        {
          "output_type": "stream",
          "name": "stdout",
          "text": [
            "170978    0\n",
            "96185     0\n",
            "30469     0\n",
            "266925    0\n",
            "14185     0\n",
            "         ..\n",
            "116600    0\n",
            "137239    0\n",
            "184018    0\n",
            "64742     0\n",
            "259262    0\n",
            "Name: Class, Length: 85443, dtype: int64\n"
          ]
        }
      ]
    },
    {
      "cell_type": "markdown",
      "source": [
        "#  Training the Logistic Regression model on the Training set and Predict"
      ],
      "metadata": {
        "id": "0wlGjJam0Xmg"
      }
    },
    {
      "cell_type": "code",
      "source": [
        "from sklearn.linear_model import LogisticRegression\n",
        "classifier = LogisticRegression(max_iter=1000)\n",
        "classifier.fit(X_train, Y_train)\n",
        "\n",
        "Y_pred = classifier.predict(X_test)\n",
        "Y_proba = classifier.predict_proba(X_test)[:, 1]"
      ],
      "metadata": {
        "id": "kDM7Fuq00avZ"
      },
      "execution_count": 24,
      "outputs": []
    },
    {
      "cell_type": "markdown",
      "source": [
        "# Evaluating and testing the confusion matrix"
      ],
      "metadata": {
        "id": "NwXYUqEY2ZIW"
      }
    },
    {
      "cell_type": "code",
      "source": [
        "from sklearn.metrics import classification_report, confusion_matrix, roc_auc_score\n",
        "\n",
        "print(confusion_matrix(Y_test, Y_pred))"
      ],
      "metadata": {
        "colab": {
          "base_uri": "https://localhost:8080/"
        },
        "id": "oY5pzuPe2fct",
        "outputId": "be43cf77-a9fc-44e0-d39f-654015c2fa51"
      },
      "execution_count": 25,
      "outputs": [
        {
          "output_type": "stream",
          "name": "stdout",
          "text": [
            "[[85280    15]\n",
            " [   55    93]]\n"
          ]
        }
      ]
    },
    {
      "cell_type": "code",
      "source": [
        "print(classification_report(Y_test, Y_pred, digits=4))"
      ],
      "metadata": {
        "colab": {
          "base_uri": "https://localhost:8080/"
        },
        "id": "FO_38eSv2wjU",
        "outputId": "28e3b1ce-1a73-4ab0-ab03-5ce20c6a25e3"
      },
      "execution_count": 27,
      "outputs": [
        {
          "output_type": "stream",
          "name": "stdout",
          "text": [
            "              precision    recall  f1-score   support\n",
            "\n",
            "           0     0.9994    0.9998    0.9996     85295\n",
            "           1     0.8611    0.6284    0.7266       148\n",
            "\n",
            "    accuracy                         0.9992     85443\n",
            "   macro avg     0.9302    0.8141    0.8631     85443\n",
            "weighted avg     0.9991    0.9992    0.9991     85443\n",
            "\n"
          ]
        }
      ]
    },
    {
      "cell_type": "code",
      "source": [
        "print(\"ROC-AUC Score:\", roc_auc_score(Y_test, Y_proba))"
      ],
      "metadata": {
        "colab": {
          "base_uri": "https://localhost:8080/"
        },
        "id": "C9BYint-3FSC",
        "outputId": "56829d40-34cc-423b-a9f8-2a1fbd3fa0b7"
      },
      "execution_count": 28,
      "outputs": [
        {
          "output_type": "stream",
          "name": "stdout",
          "text": [
            "ROC-AUC Score: 0.9718415261501023\n"
          ]
        }
      ]
    },
    {
      "cell_type": "code",
      "source": [
        "sns.heatmap(confusion_matrix(Y_test, Y_pred), annot=True, fmt='d', cmap='Blues')\n",
        "plt.title(\"Confusion Matrix\")\n",
        "plt.xlabel(\"Predicted\")\n",
        "plt.ylabel(\"Actual\")\n",
        "plt.show()"
      ],
      "metadata": {
        "colab": {
          "base_uri": "https://localhost:8080/",
          "height": 472
        },
        "id": "AHK6V6Ws3hUB",
        "outputId": "bb2e52ad-d094-40a4-da3b-bb5cb4cdfdbb"
      },
      "execution_count": 30,
      "outputs": [
        {
          "output_type": "display_data",
          "data": {
            "text/plain": [
              "<Figure size 640x480 with 2 Axes>"
            ],
            "image/png": "[encoded data removed]"
          },
          "metadata": {}
        }
      ]
    }
  ]
}